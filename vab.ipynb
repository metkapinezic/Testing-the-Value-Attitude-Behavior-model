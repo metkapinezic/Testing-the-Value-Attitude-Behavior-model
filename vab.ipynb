{
 "cells": [
  {
   "cell_type": "code",
   "execution_count": 8,
   "metadata": {},
   "outputs": [
    {
     "name": "stdout",
     "output_type": "stream",
     "text": [
      "         ID    Age       Residence  V-SE-Power  V-SE- Achievement  \\\n",
      "0  1,12E+15  25-34        Slovenia           2                  3   \n",
      "1  1,11E+15  35-44         Croatia           8                  4   \n",
      "2  1,11E+15  35-44        Slovenia           3                  5   \n",
      "3  1,11E+15  25-34         Germany           3                  5   \n",
      "4  1,11E+14  25-34  Czech Republic           5                  8   \n",
      "\n",
      "   AVG-V-Self-Enhacemen  V-O- Hedonism  V-O-Stimulation  V-O-Self_direction  \\\n",
      "0                   2.5              3                5                   9   \n",
      "1                   6.0              2                7                   9   \n",
      "2                   4.0              7                5                   9   \n",
      "3                   4.0              2                2                   9   \n",
      "4                   6.5              7                8                   8   \n",
      "\n",
      "   AVG-V-Openness_to_change  ...  AVG-ATT  BEH-take_part  BEH-passenger-usage  \\\n",
      "0                      5.67  ...      7.0              1                  2.0   \n",
      "1                      6.00  ...      7.0              1                  2.0   \n",
      "2                      7.00  ...      2.0              1                  1.0   \n",
      "3                      4.33  ...      7.0              1                  2.0   \n",
      "4                      7.67  ...      2.0              1                  3.0   \n",
      "\n",
      "                    PARTIC-YES-passenger-explanation  BEH-driver-usage  \\\n",
      "0  Sharing the same destination, to have company ...               2.0   \n",
      "1                                                NaN               2.0   \n",
      "2                     Pregnant and having a toddler.               1.0   \n",
      "3                                    I needed a ride               1.0   \n",
      "4                                      Life happens.               3.0   \n",
      "\n",
      "                       PARTIC-YES-driver-explanation  INT-passenger  \\\n",
      "0  Sharing the same destination, to have company ...            5.0   \n",
      "1  Lots of days on the road, so it is good to hav...            4.0   \n",
      "2                     Pregnant and having a toddler.            5.0   \n",
      "3           I don‚Äôt have a driving license nor car            5.0   \n",
      "4                Well, life happens. It really does.            5.0   \n",
      "\n",
      "                           INT-passenger-explanation  INT-driver  \\\n",
      "0  It's a very good way to optimize your travelli...         5.0   \n",
      "1                          Sometimes it is cheaper..         5.0   \n",
      "2                           I have no reason not to.         5.0   \n",
      "3  Why not? If you need a ride and you trust the ...         5.0   \n",
      "4                                                NaN         5.0   \n",
      "\n",
      "                              INT-driver-explanation  \n",
      "0  It's a very good way to optimize your travelli...  \n",
      "1                 Always needin money, so why not...  \n",
      "2                                 Sharing is caring.  \n",
      "3                        I support car sharing fully  \n",
      "4                                                NaN  \n",
      "\n",
      "[5 rows x 43 columns]\n"
     ]
    }
   ],
   "source": [
    "import csv\n",
    "import pandas as pd\n",
    "import matplotlib.pyplot as plt\n",
    "\n",
    "df = pd.read_csv('./cleandata.csv')\n",
    "print(df.head())\n"
   ]
  },
  {
   "cell_type": "code",
   "execution_count": 3,
   "metadata": {},
   "outputs": [
    {
     "name": "stdout",
     "output_type": "stream",
     "text": [
      "Descriptive Statistics:\n",
      "       V-SE-Power  V-SE- Achievement  AVG-V-Self-Enhacemen  V-O- Hedonism  \\\n",
      "count  178.000000         178.000000            178.000000     178.000000   \n",
      "mean     3.848315           5.196629              4.522472       5.353933   \n",
      "std      1.848659           2.240004              1.705607       2.370609   \n",
      "min      1.000000           1.000000              1.000000       1.000000   \n",
      "25%      2.000000           4.000000              3.500000       3.250000   \n",
      "50%      4.000000           5.000000              4.500000       5.000000   \n",
      "75%      5.000000           7.000000              5.500000       7.000000   \n",
      "max      9.000000           9.000000              9.000000       9.000000   \n",
      "\n",
      "       V-O-Stimulation  V-O-Self_direction  AVG-V-Openness_to_change  \\\n",
      "count       178.000000          178.000000                178.000000   \n",
      "mean          5.876404            7.466292                  6.232191   \n",
      "std           2.342533            2.056130                  1.707610   \n",
      "min           1.000000            1.000000                  1.000000   \n",
      "25%           5.000000            7.000000                  5.000000   \n",
      "50%           5.000000            8.000000                  6.330000   \n",
      "75%           8.000000            9.000000                  7.670000   \n",
      "max           9.000000            9.000000                  9.000000   \n",
      "\n",
      "       V-ST-Universalism  V-ST-Benevolence  AVG-V-Self_transcendence  ...  \\\n",
      "count         178.000000        178.000000                178.000000  ...   \n",
      "mean            7.117978          7.550562                  7.334270  ...   \n",
      "std             2.405881          1.994406                  1.877402  ...   \n",
      "min             1.000000          1.000000                  2.000000  ...   \n",
      "25%             5.000000          7.000000                  6.000000  ...   \n",
      "50%             8.000000          8.000000                  8.000000  ...   \n",
      "75%             9.000000          9.000000                  9.000000  ...   \n",
      "max             9.000000          9.000000                  9.000000  ...   \n",
      "\n",
      "       P-HH-Sincerity  AVG-P-Honesty-Humility  ATT-Favourable   ATT-Smart  \\\n",
      "count      178.000000              178.000000      178.000000  178.000000   \n",
      "mean         3.320225                3.773876        4.561798    4.730337   \n",
      "std          1.213733                0.667384        1.576344    1.780396   \n",
      "min          1.000000                1.750000        1.000000    1.000000   \n",
      "25%          2.000000                3.250000        4.000000    4.000000   \n",
      "50%          4.000000                4.000000        5.000000    5.000000   \n",
      "75%          4.000000                4.250000        5.000000    7.000000   \n",
      "max          5.000000                5.000000        7.000000    7.000000   \n",
      "\n",
      "          AVG-ATT  BEH-take_part  BEH-passenger-usage  BEH-driver-usage  \\\n",
      "count  178.000000     178.000000           125.000000        124.000000   \n",
      "mean     4.646067       0.702247             1.736000          1.370968   \n",
      "std      1.444261       0.458560             0.636827          0.643514   \n",
      "min      2.000000       0.000000             1.000000          1.000000   \n",
      "25%      3.500000       0.000000             1.000000          1.000000   \n",
      "50%      4.500000       1.000000             2.000000          1.000000   \n",
      "75%      5.000000       1.000000             2.000000          2.000000   \n",
      "max      7.000000       1.000000             3.000000          3.000000   \n",
      "\n",
      "       INT-passenger  INT-driver  \n",
      "count     176.000000  176.000000  \n",
      "mean        3.670455    3.193182  \n",
      "std         1.138637    1.254550  \n",
      "min         1.000000    1.000000  \n",
      "25%         3.000000    2.000000  \n",
      "50%         4.000000    3.000000  \n",
      "75%         5.000000    4.000000  \n",
      "max         5.000000    5.000000  \n",
      "\n",
      "[8 rows x 36 columns]\n"
     ]
    }
   ],
   "source": [
    "# Display basic statistics\n",
    "print(\"Descriptive Statistics:\")\n",
    "print(df.describe())"
   ]
  },
  {
   "cell_type": "code",
   "execution_count": 5,
   "metadata": {},
   "outputs": [
    {
     "name": "stdout",
     "output_type": "stream",
     "text": [
      "Frequency, Percentage, and Cumulative Percentage of Age:\n",
      "     Age  Frequency  Percentage  Cumulative Percentage\n",
      "0  25-34         91   51.123596              51.123596\n",
      "1  35-44         46   25.842697              76.966292\n",
      "2  45-54         17    9.550562              86.516854\n",
      "3  18-24         14    7.865169              94.382022\n",
      "4  55-64          8    4.494382              98.876404\n",
      "5    65+          2    1.123596             100.000000\n"
     ]
    }
   ],
   "source": [
    "# Calculate the frequency of values in the \"Age\" column\n",
    "age_frequency = df['Age'].value_counts()\n",
    "\n",
    "# Calculate the percentage of frequency\n",
    "age_percentage = (age_frequency / len(df)) * 100\n",
    "\n",
    "# Calculate the cumulative percentage\n",
    "cumulative_percentage = age_percentage.cumsum()\n",
    "\n",
    "# Create a DataFrame with Age, Frequency, Percentage, and Cumulative Percentage\n",
    "age_summary_df = pd.DataFrame({'Age': age_frequency.index, 'Frequency': age_frequency.values, 'Percentage': age_percentage.values, 'Cumulative Percentage': cumulative_percentage.values})\n",
    "\n",
    "# Print the results\n",
    "print(\"Frequency, Percentage, and Cumulative Percentage of Age:\")\n",
    "print(age_summary_df)"
   ]
  },
  {
   "cell_type": "code",
   "execution_count": 10,
   "metadata": {},
   "outputs": [
    {
     "data": {
      "image/png": "[encoded data removed]",
      "text/plain": [
       "<Figure size 1000x600 with 1 Axes>"
      ]
     },
     "metadata": {},
     "output_type": "display_data"
    }
   ],
   "source": [
    "# Plot the histogram\n",
    "plt.figure(figsize=(10, 6))\n",
    "plt.hist(df['Age'], bins=20, color='blue', edgecolor='black')\n",
    "plt.title('Distribution of Age')\n",
    "plt.xlabel('Age')\n",
    "plt.ylabel('Frequency')\n",
    "plt.grid(True)\n",
    "plt.show()"
   ]
  }
 ],
 "metadata": {
  "kernelspec": {
   "display_name": "base",
   "language": "python",
   "name": "python3"
  },
  "language_info": {
   "codemirror_mode": {
    "name": "ipython",
    "version": 3
   },
   "file_extension": ".py",
   "mimetype": "text/x-python",
   "name": "python",
   "nbconvert_exporter": "python",
   "pygments_lexer": "ipython3",
   "version": "3.11.3"
  }
 },
 "nbformat": 4,
 "nbformat_minor": 2
}
