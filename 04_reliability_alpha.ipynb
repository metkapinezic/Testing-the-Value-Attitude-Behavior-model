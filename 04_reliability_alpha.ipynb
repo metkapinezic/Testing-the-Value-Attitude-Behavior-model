{
 "cells": [
  {
   "cell_type": "markdown",
   "metadata": {},
   "source": [
    "Cronbach's alpha is a statistic used to measure the internal consistency reliability of a scale or a set of items designed to measure a latent construct.\n",
    "Cronbach's alpha, a measure of internal consistency reliability, can range from 0 to 1. Here's a general guideline for interpreting Cronbach's alpha values in terms of internal consistency:\n",
    "\n",
    "0 to 0.5: Indicates poor internal consistency. Items in the scale are not highly correlated with each other. This range suggests that the items may not be measuring the same underlying construct reliably.\n",
    "0.5 to 0.7: Suggests moderate internal consistency. While there is some correlation among the items, it may not be strong enough to consider them highly reliable measures of the same construct.\n",
    "0.7 to 0.9: Indicates good internal consistency. Items in the scale are reasonably correlated with each other, suggesting that they measure the same underlying construct reliably.\n",
    "Above 0.9: Represents excellent internal consistency. Items in the scale are highly correlated with each other, indicating strong reliability in measuring the same construct."
   ]
  },
  {
   "cell_type": "code",
   "execution_count": 4,
   "metadata": {},
   "outputs": [
    {
     "name": "stdout",
     "output_type": "stream",
     "text": [
      "                Construct  Cronbach's alpha\n",
      "0        Self-Enhancement              0.55\n",
      "1      Openness to Change              0.62\n",
      "2      Self-Transcendence              0.61\n",
      "3            Conservation              0.58\n",
      "4  Openness to Experience              0.49\n",
      "5            Extraversion              0.46\n",
      "6        Honesty-Humidity              0.45\n",
      "7               Intention              0.65\n",
      "8                Attitude              0.64\n",
      "\n",
      "DataFrame has been saved as cronbach_alpha.csv\n"
     ]
    }
   ],
   "source": [
    "import pandas as pd\n",
    "from pingouin import reliability\n",
    "\n",
    "# Importing the dataset\n",
    "data = pd.read_csv('cleandata.csv')\n",
    "\n",
    "# Define the constructs and their respective variables\n",
    "constructs = {\n",
    "    'Self-Enhancement': ['V-SE-Power', 'V-SE-Achievement'],\n",
    "    'Openness to Change': ['V-O-Hedonism', 'V-O-Stimulation', 'V-O-Self_direction'],\n",
    "    'Self-Transcendence': ['V-ST-Universalism', 'V-ST-Benevolence'],\n",
    "    'Conservation': ['V-C-Tradition', 'V-C-Conformity', 'V-C-Security'],\n",
    "    'Openness to Experience': ['P-OX-Aesthetic_appreciation', 'P-OX-Inquisitiveness', 'P-OX-Creativity', 'P-OX-Unconventionality'],\n",
    "    'Extraversion': ['P-E-Social_boldness', 'P-E-Social_self-esteem', 'P-E-Sociability', 'P-E-Liveliness'],\n",
    "    'Honesty-Humidity': ['P-HH-Modesty', 'P-HH-Greed avoidance', 'P-HH-Fairness', 'P-HH-Sincerity'],\n",
    "    'Intention': ['INT-passenger', 'INT-driver'],\n",
    "    'Attitude': ['ATT-Favourable', 'ATT-Smart']\n",
    "}\n",
    "\n",
    "# Calculate Cronbach's alpha for each construct\n",
    "alpha_results = []\n",
    "for construct, variables in constructs.items():\n",
    "    subset_data = data[variables]\n",
    "    alpha = reliability.cronbach_alpha(subset_data)\n",
    "    alpha_results.append((construct, round(alpha[0], 2)))\n",
    "\n",
    "# Create a DataFrame to display the results\n",
    "alpha_df = pd.DataFrame(alpha_results, columns=['Construct', \"Cronbach's alpha\"])\n",
    "print(alpha_df)\n",
    "\n",
    "# Save to csv\n",
    "alpha_df.to_csv('cronbach_alpha.csv', index=False)\n",
    "print(\"\\nDataFrame has been saved as cronbach_alpha.csv\")"
   ]
  }
 ],
 "metadata": {
  "kernelspec": {
   "display_name": "base",
   "language": "python",
   "name": "python3"
  },
  "language_info": {
   "codemirror_mode": {
    "name": "ipython",
    "version": 3
   },
   "file_extension": ".py",
   "mimetype": "text/x-python",
   "name": "python",
   "nbconvert_exporter": "python",
   "pygments_lexer": "ipython3",
   "version": "3.11.3"
  }
 },
 "nbformat": 4,
 "nbformat_minor": 2
}
