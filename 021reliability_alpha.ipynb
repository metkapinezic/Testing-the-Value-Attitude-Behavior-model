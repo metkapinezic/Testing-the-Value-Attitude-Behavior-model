{
 "cells": [
  {
   "cell_type": "markdown",
   "metadata": {},
   "source": [
    "Factor analysis explores the underlying structure of the variables and identify latent factors that may explain the relationships among them."
   ]
  },
  {
   "cell_type": "markdown",
   "metadata": {},
   "source": [
    "The Kaiser-Meyer-Olkin (KMO) measure of sampling adequacy is used to determine whether the data is suitable for factor analysis. It measures the proportion of variance among variables that might be common variance, meaning that it is due to underlying factors. The KMO statistic ranges between 0 and 1, with values closer to 1 indicating that the data is well suited for factor analysis.\n",
    "\n",
    "A KMO value above 0.6 is generally considered acceptable, while values closer to 1 indicate a better fit for factor analysis.\n",
    "\n",
    "In your case, the KMO value is 0.563, which is below the threshold of 0.6. This suggests that the correlation structure of the variables is not suitable for factor analysis. In other words, the variables may not be highly related to each other, and the factor analysis results may not be reliable.\n",
    "\n",
    "Additionally, Bartlett's test of sphericity is a statistical test used to determine whether the correlation matrix of the variables is significantly different from an identity matrix, which would indicate that the variables are related. The p-value associated with this test is very small (2.0861320020439854e-15), indicating that the correlations between the variables are statistically significant, and thus factor analysis may be appropriate for this dataset."
   ]
  },
  {
   "cell_type": "markdown",
   "metadata": {},
   "source": [
    "Cronbach's alpha is a statistic used to measure the internal consistency reliability of a scale or a set of items designed to measure a latent construct.\n",
    "Cronbach's alpha, a measure of internal consistency reliability, can range from 0 to 1. Here's a general guideline for interpreting Cronbach's alpha values in terms of internal consistency:\n",
    "\n",
    "0 to 0.5: Indicates poor internal consistency. Items in the scale are not highly correlated with each other. This range suggests that the items may not be measuring the same underlying construct reliably.\n",
    "0.5 to 0.7: Suggests moderate internal consistency. While there is some correlation among the items, it may not be strong enough to consider them highly reliable measures of the same construct.\n",
    "0.7 to 0.9: Indicates good internal consistency. Items in the scale are reasonably correlated with each other, suggesting that they measure the same underlying construct reliably.\n",
    "Above 0.9: Represents excellent internal consistency. Items in the scale are highly correlated with each other, indicating strong reliability in measuring the same construct."
   ]
  },
  {
   "cell_type": "code",
   "execution_count": 2,
   "metadata": {},
   "outputs": [
    {
     "name": "stdout",
     "output_type": "stream",
     "text": [
      "                Construct  Cronbach's alpha\n",
      "0        Self-Enhancement              0.55\n",
      "1      Openness to Change              0.62\n",
      "2      Self-Transcendence              0.61\n",
      "3            Conservation              0.58\n",
      "4  Openness to Experience              0.49\n",
      "5            Extraversion              0.46\n",
      "6        Honesty-Humidity              0.45\n",
      "7                Attitude              0.64\n",
      "\n",
      "DataFrame has been saved as cronbach_alpha.csv\n"
     ]
    }
   ],
   "source": [
    "import pandas as pd\n",
    "from pingouin import reliability\n",
    "\n",
    "# Importing the dataset\n",
    "data = pd.read_csv('cleandata.csv')\n",
    "\n",
    "# Define the constructs and their respective variables\n",
    "constructs = {\n",
    "    'Self-Enhancement': ['V-SE-Power', 'V-SE-Achievement'],\n",
    "    'Openness to Change': ['V-O-Hedonism', 'V-O-Stimulation', 'V-O-Self_direction'],\n",
    "    'Self-Transcendence': ['V-ST-Universalism', 'V-ST-Benevolence'],\n",
    "    'Conservation': ['V-C-Tradition', 'V-C-Conformity', 'V-C-Security'],\n",
    "    'Openness to Experience': ['P-OX-Aesthetic_appreciation', 'P-OX-Inquisitiveness', 'P-OX-Creativity', 'P-OX-Unconventionality'],\n",
    "    'Extraversion': ['P-E-Social_boldness', 'P-E-Social_self-esteem', 'P-E-Sociability', 'P-E-Liveliness'],\n",
    "    'Honesty-Humidity': ['P-HH-Modesty', 'P-HH-Greed avoidance', 'P-HH-Fairness', 'P-HH-Sincerity'],\n",
    "    'Attitude': ['ATT-Favourable', 'ATT-Smart']\n",
    "}\n",
    "\n",
    "# Calculate Cronbach's alpha for each construct\n",
    "alpha_results = []\n",
    "for construct, variables in constructs.items():\n",
    "    subset_data = data[variables]\n",
    "    alpha = reliability.cronbach_alpha(subset_data)\n",
    "    alpha_results.append((construct, round(alpha[0], 2)))\n",
    "\n",
    "# Create a DataFrame to display the results\n",
    "alpha_df = pd.DataFrame(alpha_results, columns=['Construct', \"Cronbach's alpha\"])\n",
    "print(alpha_df)\n",
    "\n",
    "# Save to csv\n",
    "alpha_df.to_csv('cronbach_alpha.csv', index=False)\n",
    "print(\"\\nDataFrame has been saved as cronbach_alpha.csv\")"
   ]
  }
 ],
 "metadata": {
  "kernelspec": {
   "display_name": "base",
   "language": "python",
   "name": "python3"
  },
  "language_info": {
   "codemirror_mode": {
    "name": "ipython",
    "version": 3
   },
   "file_extension": ".py",
   "mimetype": "text/x-python",
   "name": "python",
   "nbconvert_exporter": "python",
   "pygments_lexer": "ipython3",
   "version": "3.1.0"
  }
 },
 "nbformat": 4,
 "nbformat_minor": 2
}
